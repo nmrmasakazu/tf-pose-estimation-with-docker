{
 "cells": [
  {
   "cell_type": "code",
   "execution_count": null,
   "metadata": {},
   "outputs": [],
   "source": [
    "from tf_pose.estimator import TfPoseEstimator\n",
    "from tf_pose.networks import get_graph_path, model_wh\n",
    "from tf_pose import common\n",
    "import cv2\n",
    "import matplotlib.pyplot as plt\n",
    "import numpy as np\n",
    "import os\n",
    "from analyze.analyze_human import AnalyzeHuman\n",
    "%matplotlib inline\n",
    "\n",
    "w, h = model_wh('432x368')\n",
    "estimator = TfPoseEstimator(get_graph_path('cmu'), target_size=(w, h))\n",
    "analyzeHuman = AnalyzeHuman()"
   ]
  },
  {
   "cell_type": "code",
   "execution_count": null,
   "metadata": {},
   "outputs": [],
   "source": [
    "image_name = 'p2'\n",
    "extension = '.jpg'\n",
    "path_image = f'./images/{image_name}{extension}'\n",
    "\n",
    "path_image_out_dir = f'./outputs/estimated_images/'\n",
    "path_data_out_dir = './outputs/data/'\n",
    "path_data_out = f'./outputs/data/{image_name}.xlsx'\n",
    "\n",
    "os.makedirs(path_image_out_dir, exist_ok=True)\n",
    "os.makedirs(path_data_out_dir, exist_ok=True)\n",
    "\n",
    "image = common.read_imgfile(path_image, None, None)\n",
    "plt.imshow(cv2.cvtColor(image, cv2.COLOR_BGR2RGB))"
   ]
  },
  {
   "cell_type": "code",
   "execution_count": null,
   "metadata": {},
   "outputs": [],
   "source": [
    "humans = estimator.inference(image, resize_to_default=(w > 0 and h > 0), upsample_size=4.0)\n",
    "estimated_image = TfPoseEstimator.draw_humans(image, humans, imgcopy=False)\n",
    "\n",
    "fig = plt.figure()\n",
    "plt.imshow(cv2.cvtColor(estimated_image, cv2.COLOR_BGR2RGB))"
   ]
  },
  {
   "cell_type": "code",
   "execution_count": null,
   "metadata": {},
   "outputs": [],
   "source": [
    "human_points = analyzeHuman.get_human_points(humans[0], estimated_image.shape[0], estimated_image.shape[1])\n",
    "human_points_df = analyzeHuman.get_and_append_human_points(humans[0], image_name, estimated_image.shape[0], estimated_image.shape[1])"
   ]
  },
  {
   "cell_type": "code",
   "execution_count": null,
   "metadata": {},
   "outputs": [],
   "source": [
    "saved_path = os.path.join(path_image_out_dir, image_name + extension)\n",
    "plt.imsave(saved_path, estimated_image)\n",
    "saved_image = common.read_imgfile(saved_path, None, None)\n",
    "plt.imshow(saved_image)"
   ]
  },
  {
   "cell_type": "code",
   "execution_count": null,
   "metadata": {},
   "outputs": [],
   "source": [
    "analyzeHuman.save_points(path_data_out)"
   ]
  }
 ],
 "metadata": {
  "kernelspec": {
   "display_name": "Python 3",
   "language": "python",
   "name": "python3"
  },
  "language_info": {
   "codemirror_mode": {
    "name": "ipython",
    "version": 3
   },
   "file_extension": ".py",
   "mimetype": "text/x-python",
   "name": "python",
   "nbconvert_exporter": "python",
   "pygments_lexer": "ipython3",
   "version": "3.6.12"
  }
 },
 "nbformat": 4,
 "nbformat_minor": 4
}